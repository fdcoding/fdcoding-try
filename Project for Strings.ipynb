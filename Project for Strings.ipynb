{
 "cells": [
  {
   "cell_type": "markdown",
   "metadata": {},
   "source": [
    "“I was driving on the highway the other day and I happened to notice my odometer.\n",
    "Like most odometers, it shows six digits, in whole miles only. So, if my car had 300,000\n",
    "miles, for example, I’d see 3-0-0-0-0-0.\n",
    "“Now, what I saw that day was very interesting. I noticed that the last 4 digits were\n",
    "palindromic; that is, they read the same forward as backward. For example, 5-4-4-5 is\n",
    "a palindrome, so my odometer could have read 3-1-5-4-4-5.\n",
    "“One mile later, the last 5 numbers were palindromic. For example, it could have read\n",
    "3-6-5-4-5-6. One mile after that, the middle 4 out of 6 numbers were palindromic. And\n",
    "you ready for this? One mile later, all 6 were palindromic!\n",
    "“The question is, what was on the odometer when I first looked?”\n",
    "Write a Python program that tests all the six-digit numbers and prints any numbers that satisfy these\n",
    "requirements"
   ]
  },
  {
   "cell_type": "code",
   "execution_count": 14,
   "metadata": {},
   "outputs": [],
   "source": [
    "def IsPalindromic(value):\n",
    "    count = len(value)//2\n",
    "    \n",
    "    for i in range(count):\n",
    "        if value[i] != value[-1-i]:\n",
    "            return False\n",
    "    return True    "
   ]
  },
  {
   "cell_type": "code",
   "execution_count": 15,
   "metadata": {},
   "outputs": [
    {
     "name": "stdout",
     "output_type": "stream",
     "text": [
      "False\n",
      "True\n",
      "5456\n"
     ]
    }
   ],
   "source": [
    "print(IsPalindromic('8088'))\n",
    "print(IsPalindromic('65456'))\n",
    "print('65456'[-4:])"
   ]
  },
  {
   "cell_type": "code",
   "execution_count": 16,
   "metadata": {},
   "outputs": [
    {
     "name": "stdout",
     "output_type": "stream",
     "text": [
      "198888\n",
      "199999\n",
      "999998\n"
     ]
    }
   ],
   "source": [
    "for num in range(100000,999999):\n",
    "    if IsPalindromic(str(num)[2:]) == False:\n",
    "        continue\n",
    "    elif IsPalindromic(str(num+1)[1:]) == False:\n",
    "        continue\n",
    "    elif IsPalindromic(str(num+2)[1:5]) == False:\n",
    "        continue\n",
    "    elif IsPalindromic(str(num+3)) == False:\n",
    "        continue\n",
    "    else:\n",
    "        print(num)\n",
    "    "
   ]
  },
  {
   "cell_type": "code",
   "execution_count": null,
   "metadata": {},
   "outputs": [],
   "source": [
    "I like Chess \n",
    "P YPME QHEFF"
   ]
  },
  {
   "cell_type": "code",
   "execution_count": 1,
   "metadata": {},
   "outputs": [
    {
     "name": "stdout",
     "output_type": "stream",
     "text": [
      "A-R B-S C-Q D-T E-K F-O G-L H-J I-P J-X K-M L-Y M-Z N-D O-E P-N Q-U R-V S-F T-W U-A V-H W-C X-B Y-G Z-I "
     ]
    }
   ],
   "source": [
    "charset =     'ABCDEFGHIJKLMNOPQRSTUVWXYZ'\n",
    "encryptionKey='RSQTKOLJPXMYZDENUVFWAHCBGI'\n",
    "dictEnc={}\n",
    "i = 0\n",
    "while i < 26:\n",
    "    dictEnc[charset[i]]=encryptionKey[i]\n",
    "    i = i + 1 \n",
    "for i in charset:\n",
    "    print(i+\"-\"+dictEnc[i],end=\" \")    \n"
   ]
  },
  {
   "cell_type": "code",
   "execution_count": 2,
   "metadata": {},
   "outputs": [
    {
     "name": "stdout",
     "output_type": "stream",
     "text": [
      "\n",
      "plain text\n",
      "Alice was beginning to get very tired of sitting by her sister on the bank\n",
      "encrypted text\n",
      "RYPQK CRF SKLPDDPDL WE LKW HKVG WPVKT EO FPWWPDL SG JKV FPFWKV ED WJK SRDM\n"
     ]
    }
   ],
   "source": [
    "message = \"Alice was beginning to get very tired of sitting by her sister on the bank\"  \n",
    "translated =''\n",
    "for s in message.upper():\n",
    "    if s in charset:\n",
    "        translated +=dictEnc[s]\n",
    "    else:\n",
    "        translated +=s\n",
    "print(\"\\nplain text\")\n",
    "print(message)\n",
    "print(\"encrypted text\")\n",
    "print(translated)"
   ]
  },
  {
   "cell_type": "code",
   "execution_count": 4,
   "metadata": {},
   "outputs": [
    {
     "name": "stdout",
     "output_type": "stream",
     "text": [
      "\n",
      "plain text\n",
      "melbourne is a beautiful city\n",
      "encrypted text\n",
      "ZKYSEAVDK PF R SKRAWPOAY QPWG\n"
     ]
    }
   ],
   "source": [
    "message = \"melbourne is a beautiful city\"  \n",
    "translated =''\n",
    "for s in message.upper():\n",
    "    if s in charset:\n",
    "        translated +=dictEnc[s]\n",
    "    else:\n",
    "        translated +=s\n",
    "print(\"\\nplain text\")\n",
    "print(message)\n",
    "print(\"encrypted text\")\n",
    "print(translated)"
   ]
  },
  {
   "cell_type": "code",
   "execution_count": 9,
   "metadata": {},
   "outputs": [
    {
     "name": "stdout",
     "output_type": "stream",
     "text": [
      "A-U B-X C-W D-N E-O F-S G-Y H-V I-Z J-H K-E L-G M-K N-P O-F P-I Q-C R-A S-B T-D U-Q V-R W-T X-J Y-L Z-M \n",
      "encrypted text\n",
      "RYPQK CRF SKLPDDPDL WE LKW HKVG WPVKT EO FPWWPDL SG JKV FPFWKV ED WJK SRDM\n",
      "plain test\n",
      "alice was beginning to get very tired of sitting by her sister on the bank\n"
     ]
    }
   ],
   "source": [
    "charset =     'ABCDEFGHIJKLMNOPQRSTUVWXYZ'\n",
    "encryptionKey='RSQTKOLJPXMYZDENUVFWAHCBGI'\n",
    "dictDec={}\n",
    "i = 0 \n",
    "while i < 26:\n",
    "    dictDec[encryptionKey[i]]=charset[i]\n",
    "    i = i  + 1\n",
    "for i in charset:\n",
    "    print(i+\"-\"+dictDec[i],end=\" \")\n",
    "\n",
    "\n",
    "translated = 'RYPQK CRF SKLPDDPDL WE LKW HKVG WPVKT EO FPWWPDL SG JKV FPFWKV ED WJK SRDM'\n",
    "message = \"\"\n",
    "for s in translated.upper():\n",
    "    if s in encryptionKey:\n",
    "        message +=dictDec[s]\n",
    "    else:\n",
    "        message += s\n",
    "print(\"\\nencrypted text\")\n",
    "print(translated)\n",
    "print(\"plain test\")\n",
    "print(message.lower())\n"
   ]
  }
 ],
 "metadata": {
  "kernelspec": {
   "display_name": "Python 3 (ipykernel)",
   "language": "python",
   "name": "python3"
  },
  "language_info": {
   "codemirror_mode": {
    "name": "ipython",
    "version": 3
   },
   "file_extension": ".py",
   "mimetype": "text/x-python",
   "name": "python",
   "nbconvert_exporter": "python",
   "pygments_lexer": "ipython3",
   "version": "3.10.9"
  }
 },
 "nbformat": 4,
 "nbformat_minor": 4
}
