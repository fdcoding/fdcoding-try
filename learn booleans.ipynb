{
 "cells": [
  {
   "cell_type": "code",
   "execution_count": 1,
   "metadata": {},
   "outputs": [
    {
     "name": "stdout",
     "output_type": "stream",
     "text": [
      "True\n",
      "False\n",
      "False\n",
      "False\n"
     ]
    }
   ],
   "source": [
    "IsStudent = True\n",
    "print( 8 >= 7)\n",
    "print( \"Mike\" == \"mike\")\n",
    "print( True and False)\n",
    "print(not True)"
   ]
  },
  {
   "cell_type": "code",
   "execution_count": 4,
   "metadata": {},
   "outputs": [
    {
     "name": "stdout",
     "output_type": "stream",
     "text": [
      "True\n",
      "False\n",
      "False\n",
      "False\n",
      "True\n",
      "True\n"
     ]
    }
   ],
   "source": [
    "A = 4*6\n",
    "B = 3*8\n",
    "print( A == B )\n",
    "print( A > B)\n",
    "\n"
   ]
  },
  {
   "cell_type": "code",
   "execution_count": null,
   "metadata": {},
   "outputs": [],
   "source": [
    "StringA = \"Mike\"\n",
    "StringB = \"mike\"\n",
    "print(StringA == StringB)\n",
    "print(\"M\" > \"m\")  \n",
    "print(StringA.upper() == StringB.upper()) "
   ]
  },
  {
   "cell_type": "code",
   "execution_count": 8,
   "metadata": {},
   "outputs": [
    {
     "name": "stdout",
     "output_type": "stream",
     "text": [
      "False\n",
      "True\n",
      "False\n",
      "True\n",
      "False\n"
     ]
    }
   ],
   "source": [
    "A = True\n",
    "B = False\n",
    "C = True\n",
    "\n",
    "print(A and B)\n",
    "print(A and C)\n",
    "print(A and B and C)\n",
    "print(A or B and C) \n",
    "print((A or C) and B) "
   ]
  },
  {
   "cell_type": "code",
   "execution_count": 2,
   "metadata": {},
   "outputs": [
    {
     "name": "stdout",
     "output_type": "stream",
     "text": [
      "what is day of todayMonday\n"
     ]
    }
   ],
   "source": [
    "day = input(\"what is day of today\")\n",
    "if day == \"Sunday\":\n",
    "    print(\"let is go to coding class\")"
   ]
  },
  {
   "cell_type": "code",
   "execution_count": 4,
   "metadata": {},
   "outputs": [
    {
     "name": "stdout",
     "output_type": "stream",
     "text": [
      "what is day of todayMonday\n",
      "let's go to school\n"
     ]
    }
   ],
   "source": [
    "day = input(\"what is day of today\")\n",
    "if day == \"Sunday\":\n",
    "    print(\"let's go to coding class\")\n",
    "elif day == \"Saturday\":\n",
    "    print(\"let's go to tennis class\")\n",
    "else:\n",
    "    print(\"let's go to school\")"
   ]
  },
  {
   "cell_type": "code",
   "execution_count": 10,
   "metadata": {},
   "outputs": [
    {
     "name": "stdout",
     "output_type": "stream",
     "text": [
      "you can join our Scartch A class\n"
     ]
    }
   ],
   "source": [
    "age = 8\n",
    "alreadyKnowSomething = False\n",
    "if age <= 10:\n",
    "    if alreadyKnowSomething:\n",
    "        print(\"you can join our Scartch B class\")\n",
    "    else:\n",
    "        print(\"you can join our Scartch A class\")        \n",
    "else:\n",
    "    if alreadyKnowSomething:\n",
    "        print(\"you can join our Python B class\")\n",
    "    else:\n",
    "        print(\"you can join our Python A class\")"
   ]
  },
  {
   "cell_type": "code",
   "execution_count": 13,
   "metadata": {},
   "outputs": [
    {
     "name": "stdout",
     "output_type": "stream",
     "text": [
      "please input your score(50-100)44\n",
      "D\n"
     ]
    }
   ],
   "source": [
    "score = int(input('please input your score(50-100)'))\n",
    "if score >= 90:\n",
    "    grade = 'A'\n",
    "elif score >=80:\n",
    "    grade = 'B'\n",
    "elif score >=70:\n",
    "    grade = 'C'\n",
    "else:\n",
    "    grade = 'D'\n",
    "print(grade)"
   ]
  },
  {
   "cell_type": "code",
   "execution_count": 26,
   "metadata": {},
   "outputs": [
    {
     "name": "stdout",
     "output_type": "stream",
     "text": [
      "how is the weather? is it raining? (y/n)y\n",
      "is it code outside?(y/n)n\n",
      "carry an umbrella with you\n"
     ]
    }
   ],
   "source": [
    "rainy = input('how is the weather? is it raining? (y/n)').lower()\n",
    "cold = input('is it cold outside?(y/n)').lower()\n",
    "if rainy == 'y' and cold == 'y':\n",
    "    print(\"you 'd better wear a raincoat\")\n",
    "elif rainy == 'y' and cold != 'y':\n",
    "    print(\"carry an umbrella with you\")\n",
    "elif rainy != 'y' and cold == 'y':\n",
    "    print('put on a jacket, it is code out!')\n",
    "else:\n",
    "    print('wear whatever you want')"
   ]
  },
  {
   "cell_type": "code",
   "execution_count": null,
   "metadata": {},
   "outputs": [],
   "source": [
    "\n",
    "import random\n",
    "num=random.randint(10,99)\n"
   ]
  },
  {
   "cell_type": "code",
   "execution_count": 3,
   "metadata": {},
   "outputs": [
    {
     "name": "stdout",
     "output_type": "stream",
     "text": [
      "please try 1 times（10-99）50\n",
      "too small, please try again\n",
      "please try 2 times（10-99）\n"
     ]
    }
   ],
   "source": [
    "import random\n",
    "num=random.randint(1,100)\n",
    "mychioce=1\n",
    "while True:   \n",
    "    value = input(\"please try \"+str(mychioce)+\" times（1-100）\")\n",
    "    if ( value == ''):\n",
    "        break \n",
    "    x=eval(value)\n",
    "    if (x==num):\n",
    "        print(\"congraulation,you use {} times\".format(mychioce))\n",
    "        break \n",
    "    elif(x>num):\n",
    "        print(\"too big, please try again\")\n",
    "    else:\n",
    "        print(\"too small, please try again\")\n",
    "    mychioce += 1\n"
   ]
  },
  {
   "cell_type": "code",
   "execution_count": null,
   "metadata": {},
   "outputs": [],
   "source": [
    "小说《镜花缘》中有一段林之祥与多久公飘洋过海的故事。有一天他们来到了“两面国”，却忘记了这一天是星期几。\n",
    "迎面见了“两面国”里的牛头和马面。他们知道，牛头在星期一、二、三说假话，在星期四、五、六、日说真话；\n",
    "马面在星期四、五、六说假话，在星期一、二、三、日说真话。\n",
    "牛头说：“昨天是我说假话的日子。”\n",
    "马面说：“真巧，昨天也是我说假话的日子。”\n",
    "请判断这一天是星期几。"
   ]
  },
  {
   "cell_type": "code",
   "execution_count": 10,
   "metadata": {},
   "outputs": [
    {
     "name": "stdout",
     "output_type": "stream",
     "text": [
      "[False, True, True, False, True, True, True]\n",
      "[True, True, True, False, True, True, False]\n"
     ]
    }
   ],
   "source": [
    "cow = [False, False, False, True, True, True, True]\n",
    "horse =[True, True, True,False,False,False,True]\n",
    "cowNew = cow.copy()\n",
    "horseNew = horse.copy()\n",
    "for index in range(len(cow)):\n",
    "    cowNew[index] = (cow[index] and cow[index-1] ) or ( not cow[index]  and  not cow[index-1])\n",
    "    horseNew[index] = (horse[index] and horse[index-1]) or (not horse[index] and not horse[index-1])\n",
    "print(cowNew)    \n",
    "print(horseNew)\n"
   ]
  },
  {
   "cell_type": "markdown",
   "metadata": {},
   "source": [
    "# Dragion Realm"
   ]
  },
  {
   "cell_type": "code",
   "execution_count": 1,
   "metadata": {},
   "outputs": [
    {
     "name": "stdout",
     "output_type": "stream",
     "text": [
      "You are in a land full of dragons. In front of you,\n",
      "you see two caves. In one cave, the dragon is friendly\n",
      "and will share his treasure with you. The other dragon\n",
      "is greedy and hungry, and will eat you on sight.\n",
      "\n",
      "which cave will you go into? 1 or 2\n",
      "1\n",
      "You approatch the cave\n",
      "It is dark and spooky\n",
      "A large dragon jumps out in front of you! He open his Jaws...\n",
      "\n",
      "Gobbles you down in one bite!\n",
      "will you play again, Yes or No\n",
      "No\n"
     ]
    }
   ],
   "source": [
    "import random\n",
    "import time\n",
    "print('''You are in a land full of dragons. In front of you,\n",
    "you see two caves. In one cave, the dragon is friendly\n",
    "and will share his treasure with you. The other dragon\n",
    "is greedy and hungry, and will eat you on sight.\n",
    "''')\n",
    "\n",
    "while True:\n",
    "    cave = input('which cave will you go into? 1 or 2\\n')\n",
    "    if cave != '1' and cave != '2':\n",
    "        print('please input 1 or 2')\n",
    "        continue\n",
    "    else:\n",
    "        print('You approatch the cave')\n",
    "        time.sleep(2)\n",
    "        print('It is dark and spooky')\n",
    "        time.sleep(2)\n",
    "        print('A large dragon jumps out in front of you! He open his Jaws...\\n')\n",
    "        time.sleep(2)\n",
    "        friendlyCave = random.randint(1,2)\n",
    "        if cave == str(friendlyCave):\n",
    "            print('Gives you his treasure!')\n",
    "        else:\n",
    "            print('Gobbles you down in one bite!')\n",
    "    playAgain = input('will you play again, Yes or No\\n')\n",
    "    if playAgain == 'No':\n",
    "        break\n",
    "\n"
   ]
  },
  {
   "cell_type": "code",
   "execution_count": null,
   "metadata": {},
   "outputs": [],
   "source": []
  }
 ],
 "metadata": {
  "kernelspec": {
   "display_name": "Python 3 (ipykernel)",
   "language": "python",
   "name": "python3"
  },
  "language_info": {
   "codemirror_mode": {
    "name": "ipython",
    "version": 3
   },
   "file_extension": ".py",
   "mimetype": "text/x-python",
   "name": "python",
   "nbconvert_exporter": "python",
   "pygments_lexer": "ipython3",
   "version": "3.10.9"
  }
 },
 "nbformat": 4,
 "nbformat_minor": 4
}
