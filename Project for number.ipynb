{
 "cells": [
  {
   "cell_type": "markdown",
   "id": "violent-mattress",
   "metadata": {},
   "source": [
    "# find magic number"
   ]
  },
  {
   "cell_type": "markdown",
   "id": "suitable-monster",
   "metadata": {},
   "source": [
    "find daffodil number "
   ]
  },
  {
   "cell_type": "code",
   "execution_count": 26,
   "id": "essential-complement",
   "metadata": {},
   "outputs": [],
   "source": [
    "def IsDaffodilNumber(number):\n",
    "    digitalList = list(str(number))\n",
    "    listLen = len(digitalList)    \n",
    "    digitalSum = 0\n",
    "    for digital in digitalList:\n",
    "        digitalSum = digitalSum + int(digital)**listLen\n",
    "    if(digitalSum == number):\n",
    "        return True\n",
    "    else:\n",
    "        return False"
   ]
  },
  {
   "cell_type": "code",
   "execution_count": 9,
   "id": "medium-unemployment",
   "metadata": {},
   "outputs": [
    {
     "name": "stdout",
     "output_type": "stream",
     "text": [
      "False\n",
      "True\n",
      "True\n"
     ]
    }
   ],
   "source": [
    "print(IsDaffodilNumber(123))\n",
    "print(IsDaffodilNumber(370))\n",
    "print(IsDaffodilNumber(1634))"
   ]
  },
  {
   "cell_type": "code",
   "execution_count": 21,
   "id": "significant-priest",
   "metadata": {},
   "outputs": [
    {
     "name": "stdout",
     "output_type": "stream",
     "text": [
      "3.0\n"
     ]
    }
   ],
   "source": [
    "print(27**(1/3))"
   ]
  },
  {
   "cell_type": "code",
   "execution_count": 28,
   "id": "documented-application",
   "metadata": {},
   "outputs": [
    {
     "name": "stdout",
     "output_type": "stream",
     "text": [
      "[153, 370, 371, 407, 1634, 8208, 9474, 54748, 92727, 93084, 548834]\n",
      "[153, 370, 371, 407, 1634, 8208, 9474, 54748, 92727, 93084, 548834]\n",
      "[153, 370, 371, 407, 1634, 8208, 9474, 54748, 92727, 93084, 548834]\n",
      "3.81 s ± 187 ms per loop (mean ± std. dev. of 3 runs, 1 loop each)\n"
     ]
    }
   ],
   "source": [
    "result = []\n",
    "for i in range(10,999999):\n",
    "    if IsDaffodilNumber(i):\n",
    "        result.append(i)\n",
    "print(result)"
   ]
  },
  {
   "cell_type": "code",
   "execution_count": 6,
   "id": "authentic-creator",
   "metadata": {},
   "outputs": [
    {
     "name": "stdout",
     "output_type": "stream",
     "text": [
      "153\n",
      "370\n",
      "371\n",
      "407\n"
     ]
    }
   ],
   "source": [
    "for num in range(100,1000):\n",
    "    hundredDigit = (num // 100) % 10\n",
    "    tenDigit = (num // 10) % 10\n",
    "    firstDigit = num % 10\n",
    "    if num == hundredDigit ** 3 + tenDigit **3 + firstDigit **3:\n",
    "        print(num)    "
   ]
  },
  {
   "cell_type": "code",
   "execution_count": 31,
   "id": "muslim-recommendation",
   "metadata": {},
   "outputs": [
    {
     "name": "stdout",
     "output_type": "stream",
     "text": [
      "153\n",
      "370\n",
      "371\n",
      "407\n"
     ]
    }
   ],
   "source": [
    "def IsDaffodil(num):\n",
    "    hundredDigit = (num // 100) % 10\n",
    "    tenDigit = (num // 10) % 10\n",
    "    firstDigit = num % 10\n",
    "    if num == hundredDigit ** 3 + tenDigit **3 + firstDigit **3:\n",
    "        return True\n",
    "    else:\n",
    "        return False\n",
    "    \n",
    "for num in range(100,10000):\n",
    "    if IsDaffodil(num):\n",
    "        print(num)"
   ]
  },
  {
   "cell_type": "code",
   "execution_count": null,
   "id": "individual-grant",
   "metadata": {},
   "outputs": [],
   "source": []
  },
  {
   "cell_type": "code",
   "execution_count": 10,
   "id": "warming-magazine",
   "metadata": {},
   "outputs": [
    {
     "name": "stdout",
     "output_type": "stream",
     "text": [
      "1634\n",
      "8208\n",
      "9474\n"
     ]
    }
   ],
   "source": [
    "for num in range(1000,10000):\n",
    "    thoundDigit = (num // 1000) % 10\n",
    "    hundredDigit = (num // 100) % 10\n",
    "    tenDigit = (num //10) % 10\n",
    "    firstDigit = num % 10\n",
    "    if num == thoundDigit **4 + hundredDigit ** 4 + tenDigit ** 4 + firstDigit ** 4:\n",
    "        print(num)"
   ]
  },
  {
   "cell_type": "markdown",
   "id": "falling-nursery",
   "metadata": {},
   "source": [
    "“Recently I had a visit with my mom and we realized that the two digits that make\n",
    "up my age when reversed resulted in her age. For example, if she’s 73, I’m 37. We\n",
    "wondered how often this has happened over the years but we got sidetracked with other\n",
    "topics and we never came up with an answer.\n",
    "“When I got home I figured out that the digits of our ages have been reversible six times\n",
    "so far. I also figured out that if we’re lucky it would happen again in a few years, and\n",
    "if we’re really lucky it would happen one more time after that. In other words, it would\n",
    "have happened 8 times over all. So the question is, how old am I now?”\n",
    "Write a Python program that searches for solutions to this Puzzler. Hint: you might find the string\n",
    "method zfill useful."
   ]
  },
  {
   "cell_type": "code",
   "execution_count": null,
   "id": "equipped-monitoring",
   "metadata": {},
   "outputs": [],
   "source": [
    "机器人从原点（0,0）开始在平面中移动。 机器人可以通过给定的步骤向上，向下，向左和向右移动。 机器人运动的痕迹如下所示：\n",
    "UP 5\n",
    "DOWN 3\n",
    "LETF 3\n",
    "RIGHT 2\n",
    "方向之后的数字是步骤。 请编写一个程序来计算一系列运动和原点之后距当前位置的距离。如果距离是浮点数，则只打印最接近的整数。\n",
    "例：如果给出以下元组作为程序的输入：\n",
    "UP 5\n",
    "DOWN 3\n",
    "LETF 3\n",
    "RIGHT 2\n",
    "然后，程序的输出应该是：2"
   ]
  },
  {
   "cell_type": "code",
   "execution_count": null,
   "id": "built-audio",
   "metadata": {},
   "outputs": [],
   "source": [
    "import math\n",
    "pos = [0,0]\n",
    "print(\"please input you move\")\n",
    "while True:\n",
    "    s = input()\n",
    "    if not s:\n",
    "        break\n",
    "    movement = s.split(\" \")\n",
    "    direction = movement[0]\n",
    "    steps = int(movement[1])\n",
    "    if direction==\"UP\":\n",
    "        pos[0]+=steps\n",
    "    elif direction==\"DOWN\":\n",
    "        pos[0]-=steps\n",
    "    elif direction==\"LEFT\":\n",
    "        pos[1]-=steps\n",
    "    elif direction==\"RIGHT\":\n",
    "        pos[1]+=steps\n",
    "    else:\n",
    "        pass\n",
    " \n",
    "print (int(round(math.sqrt(pos[1]**2+pos[0]**2))))\n"
   ]
  },
  {
   "cell_type": "code",
   "execution_count": 35,
   "id": "cubic-roller",
   "metadata": {},
   "outputs": [
    {
     "name": "stdout",
     "output_type": "stream",
     "text": [
      "8\n",
      "8\n"
     ]
    }
   ],
   "source": [
    "print(abs(10-18))\n",
    "print(abs(18-10))"
   ]
  },
  {
   "cell_type": "code",
   "execution_count": 38,
   "id": "sacred-broadway",
   "metadata": {},
   "outputs": [
    {
     "name": "stdout",
     "output_type": "stream",
     "text": [
      "9.12\n",
      "9.12345\n"
     ]
    }
   ],
   "source": [
    "number = 9.12345\n",
    "print( format(number, '.2f'))\n",
    "print( format(number, '.5f'))"
   ]
  },
  {
   "cell_type": "markdown",
   "id": "sticky-tuner",
   "metadata": {},
   "source": [
    "calculate golden radio"
   ]
  },
  {
   "cell_type": "code",
   "execution_count": 1,
   "id": "dried-leonard",
   "metadata": {},
   "outputs": [
    {
     "name": "stdout",
     "output_type": "stream",
     "text": [
      "Phi = 1.61803\n",
      "Calculate 1 value = 1.0000000\n",
      "Calculate 2 value = 2.0000000\n",
      "Calculate 3 value = 1.5000000\n",
      "Calculate 4 value = 1.6666667\n",
      "Calculate 5 value = 1.6000000\n",
      "Calculate 6 value = 1.6250000\n",
      "Calculate 7 value = 1.6153846\n",
      "Calculate 8 value = 1.6190476\n",
      "Calculate 9 value = 1.6176471\n",
      "Calculate 10 value = 1.6181818\n",
      "Calculate 11 value = 1.6179775\n",
      "Calculate 12 value = 1.6180556\n",
      "Calculate 13 value = 1.6180258\n",
      "Calculate 14 value = 1.6180371\n",
      "Calculate 15 value = 1.6180328\n",
      "Calculate 16 value = 1.6180344\n",
      "Calculate 17 value = 1.6180338\n"
     ]
    }
   ],
   "source": [
    "phi = 1\n",
    "phiList = [1]\n",
    "while True:\n",
    "    phi = 1 + 1/phi\n",
    "    phiList.append(phi)\n",
    "    if abs(phiList[-1]-phiList[-2]) < 10**-6:\n",
    "        break\n",
    "\n",
    "print(\"Phi = \" + format(phi, '.5f'))\n",
    "tryTime = 1\n",
    "for value in phiList:\n",
    "    print( \"Calculate \" + str(tryTime) + \" value = \" + format(value,'.7f'))\n",
    "    tryTime = tryTime +1\n"
   ]
  },
  {
   "cell_type": "markdown",
   "id": "short-inclusion",
   "metadata": {},
   "source": [
    "calculate fibonacci sequence "
   ]
  },
  {
   "cell_type": "code",
   "execution_count": 43,
   "id": "progressive-disability",
   "metadata": {},
   "outputs": [
    {
     "name": "stdout",
     "output_type": "stream",
     "text": [
      "[0, 1, 1, 2, 3, 5, 8, 13, 21, 34, 55, 89, 144, 233, 377, 610, 987, 1597, 2584, 4181, 6765, 10946, 17711, 28657, 46368, 75025, 121393, 196418, 317811, 514229, 832040, 1346269, 2178309, 3524578, 5702887, 9227465, 14930352, 24157817, 39088169, 63245986, 102334155, 165580141, 267914296, 433494437, 701408733, 1134903170, 1836311903, 2971215073, 4807526976, 7778742049, 12586269025, 20365011074, 32951280099, 53316291173, 86267571272, 139583862445, 225851433717, 365435296162, 591286729879, 956722026041, 1548008755920, 2504730781961, 4052739537881, 6557470319842, 10610209857723, 17167680177565, 27777890035288, 44945570212853, 72723460248141, 117669030460994, 190392490709135, 308061521170129, 498454011879264, 806515533049393, 1304969544928657, 2111485077978050, 3416454622906707, 5527939700884757, 8944394323791464, 14472334024676221, 23416728348467685, 37889062373143906, 61305790721611591, 99194853094755497, 160500643816367088, 259695496911122585, 420196140727489673, 679891637638612258, 1100087778366101931, 1779979416004714189, 2880067194370816120, 4660046610375530309, 7540113804746346429, 12200160415121876738, 19740274219868223167, 31940434634990099905, 51680708854858323072, 83621143489848422977, 135301852344706746049, 218922995834555169026]\n",
      "1.0000000\n",
      "2.0000000\n",
      "1.5000000\n",
      "1.6666667\n",
      "1.6000000\n",
      "1.6250000\n",
      "1.6153846\n",
      "1.6190476\n",
      "1.6176471\n",
      "1.6181818\n",
      "1.6179775\n",
      "1.6180556\n",
      "1.6180258\n",
      "1.6180371\n",
      "1.6180328\n",
      "1.6180344\n",
      "1.6180338\n"
     ]
    }
   ],
   "source": [
    "result = [0,1]\n",
    "i = 2\n",
    "while i < 100:\n",
    "    result.append(result[-1] + result[-2])\n",
    "    i = i +1\n",
    "print(result)\n",
    "\n",
    "i = 2\n",
    "while i < 19:\n",
    "    print(format(result[i]/result[i-1],'.7f'))\n",
    "    i = i +1\n"
   ]
  },
  {
   "cell_type": "code",
   "execution_count": 7,
   "id": "ae0b9517",
   "metadata": {},
   "outputs": [
    {
     "name": "stdout",
     "output_type": "stream",
     "text": [
      "3.1415926485894077\n"
     ]
    }
   ],
   "source": [
    "pi = 4.0/1\n",
    "loop = 3\n",
    "flag = -1\n",
    "while True  :\n",
    "    newValue =  4.0/loop\n",
    "    if newValue < 1e-8:\n",
    "        break\n",
    "    pi = pi + flag * newValue\n",
    "    flag = -1 * flag\n",
    "    loop = loop+2\n",
    "print(str(pi))"
   ]
  }
 ],
 "metadata": {
  "kernelspec": {
   "display_name": "Python 3 (ipykernel)",
   "language": "python",
   "name": "python3"
  },
  "language_info": {
   "codemirror_mode": {
    "name": "ipython",
    "version": 3
   },
   "file_extension": ".py",
   "mimetype": "text/x-python",
   "name": "python",
   "nbconvert_exporter": "python",
   "pygments_lexer": "ipython3",
   "version": "3.10.9"
  }
 },
 "nbformat": 4,
 "nbformat_minor": 5
}
