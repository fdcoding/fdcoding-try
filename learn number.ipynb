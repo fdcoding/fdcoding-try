{
 "cells": [
  {
   "cell_type": "code",
   "execution_count": 1,
   "metadata": {},
   "outputs": [
    {
     "name": "stdout",
     "output_type": "stream",
     "text": [
      "53\n"
     ]
    }
   ],
   "source": [
    "answer = 5+(6*8)\n",
    "print(answer)"
   ]
  },
  {
   "cell_type": "code",
   "execution_count": 12,
   "metadata": {},
   "outputs": [
    {
     "name": "stdout",
     "output_type": "stream",
     "text": [
      "13\n",
      "7\n",
      "30\n",
      "3\n",
      "1\n"
     ]
    }
   ],
   "source": [
    "x = 10\n",
    "y = 3\n",
    "print(x+y)\n",
    "print(x-y)\n",
    "print(x*y)\n",
    "print(x//y)\n",
    "print(x%y)"
   ]
  },
  {
   "cell_type": "code",
   "execution_count": 7,
   "metadata": {},
   "outputs": [
    {
     "name": "stdout",
     "output_type": "stream",
     "text": [
      "48\n",
      "30\n",
      "18\n",
      "48\n"
     ]
    }
   ],
   "source": [
    "x = 6\n",
    "y = 5\n",
    "z = 3\n",
    "print(x*(y+z))\n",
    "print(x*y)\n",
    "print(x*z)\n",
    "print(x*y + x*z)"
   ]
  },
  {
   "cell_type": "code",
   "execution_count": null,
   "metadata": {},
   "outputs": [],
   "source": [
    "x = 7\n",
    "y = 3\n",
    "z = 5\n",
    "print(x+y*z)"
   ]
  },
  {
   "cell_type": "code",
   "execution_count": 4,
   "metadata": {},
   "outputs": [
    {
     "name": "stdout",
     "output_type": "stream",
     "text": [
      "haihong score is 95\n",
      "david score is 100\n",
      "david has 5\n",
      "scores than haihong\n"
     ]
    }
   ],
   "source": [
    "david_score = 100\n",
    "haihong_score = 95\n",
    "print('haihong score is',haihong_score )\n",
    "print('david score is', david_score)\n",
    "david_more_score = david_score - haihong_score\n",
    "print('david has', david_more_score)\n",
    "print('scores than haihong')"
   ]
  },
  {
   "cell_type": "code",
   "execution_count": 6,
   "metadata": {},
   "outputs": [
    {
     "name": "stdout",
     "output_type": "stream",
     "text": [
      "james is henry's student\n"
     ]
    }
   ],
   "source": [
    "teacher_name = 'henry'\n",
    "student_name = 'james'\n",
    "print(student_name + ' is' + ' ' + teacher_name + \"'s student\")"
   ]
  },
  {
   "cell_type": "code",
   "execution_count": 11,
   "metadata": {},
   "outputs": [
    {
     "name": "stdout",
     "output_type": "stream",
     "text": [
      "1\n",
      "<class 'int'>\n",
      "1\n",
      "<class 'str'>\n",
      "True\n",
      "<class 'bool'>\n",
      "['Coding', 'Chess']\n",
      "<class 'list'>\n"
     ]
    }
   ],
   "source": [
    "number = 1\n",
    "print(number)\n",
    "print(type(number))\n",
    "string = \"1\"\n",
    "print(string)\n",
    "print(type(string))\n",
    "isStudent = True\n",
    "print(isStudent)\n",
    "print(type(isStudent))\n",
    "hobbies=[\"Coding\",\"Chess\"]\n",
    "print(hobbies)\n",
    "print(type(hobbies))"
   ]
  },
  {
   "cell_type": "code",
   "execution_count": 3,
   "metadata": {},
   "outputs": [
    {
     "name": "stdout",
     "output_type": "stream",
     "text": [
      "1\n",
      "<class 'int'>\n",
      "one\n",
      "<class 'str'>\n"
     ]
    }
   ],
   "source": [
    "variable = 1\n",
    "print(variable)\n",
    "print(type(variable))\n",
    "variable = 'one'\n",
    "print(variable)\n",
    "print(type(variable))"
   ]
  },
  {
   "cell_type": "code",
   "execution_count": 6,
   "metadata": {},
   "outputs": [
    {
     "name": "stdout",
     "output_type": "stream",
     "text": [
      "10\n",
      "10\n",
      "<class 'str'>\n",
      "<class 'int'>\n"
     ]
    }
   ],
   "source": [
    "# Print and Input\n",
    "\n",
    "score = input()\n",
    "scoreNumber = int(score)\n",
    "print(score)\n",
    "print(type(score))\n",
    "print(type(scoreNumber))\n"
   ]
  },
  {
   "cell_type": "code",
   "execution_count": 2,
   "metadata": {},
   "outputs": [
    {
     "name": "stdout",
     "output_type": "stream",
     "text": [
      "5050\n"
     ]
    }
   ],
   "source": [
    "sum = 0\n",
    "for i in range(1,101):\n",
    "    sum = sum + i\n",
    "print(sum)    \n"
   ]
  },
  {
   "cell_type": "code",
   "execution_count": 3,
   "metadata": {},
   "outputs": [
    {
     "name": "stdout",
     "output_type": "stream",
     "text": [
      "5050\n"
     ]
    }
   ],
   "source": [
    "sum = 0\n",
    "i = 0 \n",
    "while i < 101:\n",
    "    sum = sum +i\n",
    "    i = i +1\n",
    "print(sum)    "
   ]
  },
  {
   "cell_type": "code",
   "execution_count": null,
   "metadata": {},
   "outputs": [],
   "source": [
    "Create an if statement that prints the string “That’s too many”\n",
    "if the variable ninjas contains a number that’s less than 50, prints\n",
    "“It’ll be a struggle, but I can take ’em” if it’s less than 30, and\n",
    "prints “I can fight those ninjas!” if it’s less than 10. "
   ]
  },
  {
   "cell_type": "code",
   "execution_count": null,
   "metadata": {},
   "outputs": [],
   "source": [
    "Create a loop that prints even numbers until it reaches your year\n",
    "of age or, if your age is an odd number, prints out odd numbers\n",
    "until it reaches your age."
   ]
  },
  {
   "cell_type": "code",
   "execution_count": null,
   "metadata": {},
   "outputs": [],
   "source": [
    "If you were standing on the moon right now, your weight would be\n",
    "16.5 percent of what it is on Earth. You can calculate that by multiplying\n",
    "your Earth weight by 0.165.\n",
    "If you gained a kilo in weight every year for the next 15 years,\n",
    "what would your weight be when you visited the moon each year\n",
    "and at the end of the 15 years? Write a program using a for loop\n",
    "that prints your moon weight for each year"
   ]
  },
  {
   "cell_type": "markdown",
   "metadata": {},
   "source": [
    "\n",
    "\n"
   ]
  }
 ],
 "metadata": {
  "kernelspec": {
   "display_name": "Python 3 (ipykernel)",
   "language": "python",
   "name": "python3"
  },
  "language_info": {
   "codemirror_mode": {
    "name": "ipython",
    "version": 3
   },
   "file_extension": ".py",
   "mimetype": "text/x-python",
   "name": "python",
   "nbconvert_exporter": "python",
   "pygments_lexer": "ipython3",
   "version": "3.10.9"
  }
 },
 "nbformat": 4,
 "nbformat_minor": 4
}
